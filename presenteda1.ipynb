{
 "cells": [
  {
   "cell_type": "code",
   "execution_count": 1,
   "id": "142df4d1",
   "metadata": {},
   "outputs": [],
   "source": [
    "import pandas as pd"
   ]
  },
  {
   "cell_type": "code",
   "execution_count": 2,
   "id": "7504d439",
   "metadata": {},
   "outputs": [],
   "source": [
    "import numpy as np"
   ]
  },
  {
   "cell_type": "code",
   "execution_count": 3,
   "id": "327ef15c",
   "metadata": {},
   "outputs": [],
   "source": [
    "import matplotlib.pyplot as plt"
   ]
  },
  {
   "cell_type": "code",
   "execution_count": 4,
   "id": "439f5f5f",
   "metadata": {},
   "outputs": [],
   "source": [
    "import seaborn as sns"
   ]
  },
  {
   "cell_type": "code",
   "execution_count": 5,
   "id": "7eca1402",
   "metadata": {},
   "outputs": [],
   "source": [
    "file_path = \"diabetes_data.csv\""
   ]
  },
  {
   "cell_type": "code",
   "execution_count": 6,
   "id": "ef4b3438",
   "metadata": {},
   "outputs": [],
   "source": [
    "df = pd.read_csv(r\"C:\\Users\\user\\Desktop\\DAFINAL PROJECT\\archive\\diabetes_data.csv\")"
   ]
  },
  {
   "cell_type": "code",
   "execution_count": 7,
   "id": "96624d4d",
   "metadata": {},
   "outputs": [
    {
     "name": "stdout",
     "output_type": "stream",
     "text": [
      "(70692, 18)\n"
     ]
    }
   ],
   "source": [
    "print(df.shape)"
   ]
  },
  {
   "cell_type": "markdown",
   "id": "5e5d149d",
   "metadata": {},
   "source": [
    "Gives a concise summary of the DataFrame."
   ]
  },
  {
   "cell_type": "code",
   "execution_count": 9,
   "id": "f580104b",
   "metadata": {},
   "outputs": [
    {
     "name": "stdout",
     "output_type": "stream",
     "text": [
      "<class 'pandas.core.frame.DataFrame'>\n",
      "RangeIndex: 70692 entries, 0 to 70691\n",
      "Data columns (total 18 columns):\n",
      " #   Column                Non-Null Count  Dtype  \n",
      "---  ------                --------------  -----  \n",
      " 0   Age                   70692 non-null  float64\n",
      " 1   Sex                   70692 non-null  float64\n",
      " 2   HighChol              70692 non-null  float64\n",
      " 3   CholCheck             70692 non-null  float64\n",
      " 4   BMI                   70692 non-null  float64\n",
      " 5   Smoker                70692 non-null  float64\n",
      " 6   HeartDiseaseorAttack  70692 non-null  float64\n",
      " 7   PhysActivity          70692 non-null  float64\n",
      " 8   Fruits                70692 non-null  float64\n",
      " 9   Veggies               70692 non-null  float64\n",
      " 10  HvyAlcoholConsump     70692 non-null  float64\n",
      " 11  GenHlth               70692 non-null  float64\n",
      " 12  MentHlth              70692 non-null  float64\n",
      " 13  PhysHlth              70692 non-null  float64\n",
      " 14  DiffWalk              70692 non-null  float64\n",
      " 15  Stroke                70692 non-null  float64\n",
      " 16  HighBP                70692 non-null  float64\n",
      " 17  Diabetes              70692 non-null  float64\n",
      "dtypes: float64(18)\n",
      "memory usage: 9.7 MB\n",
      "None\n"
     ]
    }
   ],
   "source": [
    "print(df.info())"
   ]
  },
  {
   "cell_type": "markdown",
   "id": "a8bcfdc9",
   "metadata": {},
   "source": [
    "Used to generate a summary of statistics about the data in the DataFrame."
   ]
  },
  {
   "cell_type": "code",
   "execution_count": 8,
   "id": "dae899bc",
   "metadata": {},
   "outputs": [
    {
     "name": "stdout",
     "output_type": "stream",
     "text": [
      "                Age           Sex      HighChol     CholCheck           BMI  \\\n",
      "count  70692.000000  70692.000000  70692.000000  70692.000000  70692.000000   \n",
      "mean       8.584055      0.456997      0.525703      0.975259     29.856985   \n",
      "std        2.852153      0.498151      0.499342      0.155336      7.113954   \n",
      "min        1.000000      0.000000      0.000000      0.000000     12.000000   \n",
      "25%        7.000000      0.000000      0.000000      1.000000     25.000000   \n",
      "50%        9.000000      0.000000      1.000000      1.000000     29.000000   \n",
      "75%       11.000000      1.000000      1.000000      1.000000     33.000000   \n",
      "max       13.000000      1.000000      1.000000      1.000000     98.000000   \n",
      "\n",
      "             Smoker  HeartDiseaseorAttack  PhysActivity        Fruits  \\\n",
      "count  70692.000000          70692.000000  70692.000000  70692.000000   \n",
      "mean       0.475273              0.147810      0.703036      0.611795   \n",
      "std        0.499392              0.354914      0.456924      0.487345   \n",
      "min        0.000000              0.000000      0.000000      0.000000   \n",
      "25%        0.000000              0.000000      0.000000      0.000000   \n",
      "50%        0.000000              0.000000      1.000000      1.000000   \n",
      "75%        1.000000              0.000000      1.000000      1.000000   \n",
      "max        1.000000              1.000000      1.000000      1.000000   \n",
      "\n",
      "            Veggies  HvyAlcoholConsump       GenHlth      MentHlth  \\\n",
      "count  70692.000000       70692.000000  70692.000000  70692.000000   \n",
      "mean       0.788774           0.042721      2.837082      3.752037   \n",
      "std        0.408181           0.202228      1.113565      8.155627   \n",
      "min        0.000000           0.000000      1.000000      0.000000   \n",
      "25%        1.000000           0.000000      2.000000      0.000000   \n",
      "50%        1.000000           0.000000      3.000000      0.000000   \n",
      "75%        1.000000           0.000000      4.000000      2.000000   \n",
      "max        1.000000           1.000000      5.000000     30.000000   \n",
      "\n",
      "           PhysHlth      DiffWalk        Stroke        HighBP      Diabetes  \n",
      "count  70692.000000  70692.000000  70692.000000  70692.000000  70692.000000  \n",
      "mean       5.810417      0.252730      0.062171      0.563458      0.500000  \n",
      "std       10.062261      0.434581      0.241468      0.495960      0.500004  \n",
      "min        0.000000      0.000000      0.000000      0.000000      0.000000  \n",
      "25%        0.000000      0.000000      0.000000      0.000000      0.000000  \n",
      "50%        0.000000      0.000000      0.000000      1.000000      0.500000  \n",
      "75%        6.000000      1.000000      0.000000      1.000000      1.000000  \n",
      "max       30.000000      1.000000      1.000000      1.000000      1.000000  \n"
     ]
    }
   ],
   "source": [
    "print(df.describe())"
   ]
  },
  {
   "cell_type": "markdown",
   "id": "e34cc2ee",
   "metadata": {},
   "source": [
    "This gives you a visual understanding of the age distribution in the dataset (whether it’s skewed to younger, older, or evenly spread).\n",
    "Selects the column Age from the DataFrame df.\n",
    "Creates a histogram of the Age values.\n",
    "\n",
    "A histogram shows the frequency distribution of data (how many values fall in a given range).\n",
    "Divides the data into 30 intervals (bins)."
   ]
  },
  {
   "cell_type": "code",
   "execution_count": 9,
   "id": "8b495ad8",
   "metadata": {},
   "outputs": [
    {
     "data": {
      "text/plain": [
       "<AxesSubplot:>"
      ]
     },
     "execution_count": 9,
     "metadata": {},
     "output_type": "execute_result"
    },
    {
     "data": {
      "image/png": "[encoded data removed]",
      "text/plain": [
       "<Figure size 432x288 with 1 Axes>"
      ]
     },
     "metadata": {
      "needs_background": "light"
     },
     "output_type": "display_data"
    }
   ],
   "source": [
    "df['Age'].hist(bins=30, edgecolor='black')"
   ]
  },
  {
   "cell_type": "markdown",
   "id": "f1b38b6e",
   "metadata": {},
   "source": [
    "\"Distribution of Age\" is the text of the title.\n",
    "\n",
    "It helps viewers understand what the plot represents at a glance.\n",
    "\n",
    "By default, the title appears centered at the top of the figure.\n",
    "\n",
    "It is usually combined with plt.xlabel() and plt.ylabel() to make a plot self-explanatory."
   ]
  },
  {
   "cell_type": "code",
   "execution_count": 10,
   "id": "3a152db4",
   "metadata": {},
   "outputs": [
    {
     "data": {
      "text/plain": [
       "Text(0.5, 1.0, 'Distribution of Age')"
      ]
     },
     "execution_count": 10,
     "metadata": {},
     "output_type": "execute_result"
    },
    {
     "data": {
      "image/png": "[encoded data removed]",
      "text/plain": [
       "<Figure size 432x288 with 1 Axes>"
      ]
     },
     "metadata": {
      "needs_background": "light"
     },
     "output_type": "display_data"
    }
   ],
   "source": [
    "plt.title('Distribution of Age')"
   ]
  },
  {
   "cell_type": "code",
   "execution_count": 11,
   "id": "da9ec08c",
   "metadata": {},
   "outputs": [],
   "source": [
    "plt.show()"
   ]
  },
  {
   "cell_type": "markdown",
   "id": "1d02be2b",
   "metadata": {},
   "source": [
    "draws a box-and-whisker plot for the Age values.\n",
    "\n",
    "The box shows the interquartile range (IQR) (middle 50% of the data).\n",
    "\n",
    "The line inside the box is the median age.\n",
    "\n",
    "This helps you quickly see:\n",
    "\n",
    "Median age (center of data)\n",
    "\n",
    "Spread of ages (IQR range)\n",
    "\n",
    "Skewness (if median is not centered in the box)\n",
    "\n",
    "Outliers (ages much higher or lower than most people)"
   ]
  },
  {
   "cell_type": "code",
   "execution_count": 12,
   "id": "afbded93",
   "metadata": {},
   "outputs": [
    {
     "data": {
      "image/png": "[encoded data removed]",
      "text/plain": [
       "<Figure size 432x288 with 1 Axes>"
      ]
     },
     "metadata": {
      "needs_background": "light"
     },
     "output_type": "display_data"
    }
   ],
   "source": [
    "sns.boxplot(x=df['Age'])\n",
    "plt.show()"
   ]
  },
  {
   "cell_type": "markdown",
   "id": "99436cdf",
   "metadata": {},
   "source": [
    "gives a statistical summary of the Age column.\n",
    "ount → Number of non-missing values (how many ages are present).\n",
    "\n",
    "mean → Average age.\n",
    "\n",
    "std → Standard deviation (how spread out the ages are).\n",
    "\n",
    "min → Youngest person in the dataset.\n",
    "\n",
    "25% (Q1) → First quartile (25% of people are this age or younger).\n",
    "\n",
    "50% (median) → Middle value (half are younger, half older).\n",
    "\n",
    "75% (Q3) → Third quartile (75% of people are this age or younger).\n",
    "\n",
    "max → Oldest person in the dataset."
   ]
  },
  {
   "cell_type": "code",
   "execution_count": 13,
   "id": "9e6b8fa3",
   "metadata": {},
   "outputs": [
    {
     "name": "stdout",
     "output_type": "stream",
     "text": [
      "count    70692.000000\n",
      "mean         8.584055\n",
      "std          2.852153\n",
      "min          1.000000\n",
      "25%          7.000000\n",
      "50%          9.000000\n",
      "75%         11.000000\n",
      "max         13.000000\n",
      "Name: Age, dtype: float64\n"
     ]
    }
   ],
   "source": [
    "print(df['Age'].describe())"
   ]
  },
  {
   "cell_type": "markdown",
   "id": "5abc3fba",
   "metadata": {},
   "source": [
    "sns.countplot() → A Seaborn plot that shows how many times each category (or value) appears.\n",
    "\n",
    "x='Age' → It will count how many people are of each age.\n",
    "Each bar = one age value\n",
    "\n",
    "Height of bar = number of people with that age\n"
   ]
  },
  {
   "cell_type": "code",
   "execution_count": 14,
   "id": "831e1450",
   "metadata": {},
   "outputs": [
    {
     "data": {
      "text/plain": [
       "<AxesSubplot:xlabel='Age', ylabel='count'>"
      ]
     },
     "execution_count": 14,
     "metadata": {},
     "output_type": "execute_result"
    },
    {
     "data": {
      "image/png": "[encoded data removed]",
      "text/plain": [
       "<Figure size 432x288 with 1 Axes>"
      ]
     },
     "metadata": {
      "needs_background": "light"
     },
     "output_type": "display_data"
    }
   ],
   "source": [
    "sns.countplot(x='Age', data=df)"
   ]
  },
  {
   "cell_type": "markdown",
   "id": "47393901",
   "metadata": {},
   "source": [
    "Rotates the x-axis tick labels (like Age values) by 45 degrees.\n",
    "\n",
    "This is especially useful when labels are long or crowded, so they don’t overlap."
   ]
  },
  {
   "cell_type": "code",
   "execution_count": 15,
   "id": "65f5ca13",
   "metadata": {},
   "outputs": [
    {
     "data": {
      "image/png": "[encoded data removed]",
      "text/plain": [
       "<Figure size 432x288 with 1 Axes>"
      ]
     },
     "metadata": {
      "needs_background": "light"
     },
     "output_type": "display_data"
    }
   ],
   "source": [
    "plt.xticks(rotation=45)\n",
    "plt.show()\n"
   ]
  },
  {
   "cell_type": "markdown",
   "id": "529c378d",
   "metadata": {},
   "source": [
    "df['Age'].value_counts() → Counts how many times each age appears.\n",
    "\n"
   ]
  },
  {
   "cell_type": "code",
   "execution_count": 16,
   "id": "85047abe",
   "metadata": {},
   "outputs": [
    {
     "name": "stdout",
     "output_type": "stream",
     "text": [
      "10.0    15.356759\n",
      "9.0     14.304306\n",
      "8.0     12.169694\n",
      "11.0    11.378940\n",
      "7.0      9.721043\n",
      "13.0     7.675550\n",
      "12.0     7.630283\n",
      "6.0      6.575001\n",
      "5.0      4.979347\n",
      "4.0      3.950942\n",
      "3.0      2.898489\n",
      "2.0      1.974764\n",
      "1.0      1.384881\n",
      "Name: Age, dtype: float64\n"
     ]
    }
   ],
   "source": [
    "print(df['Age'].value_counts(normalize=True) * 100)"
   ]
  },
  {
   "cell_type": "markdown",
   "id": "3da79b38",
   "metadata": {},
   "source": [
    "sns.scatterplot(...) → draws a scatter plot.\n",
    "\n",
    "x='HeartDiseaseorAttack' → values from this column are placed on the x-axis.\n",
    "\n",
    "y='PhysActivity' → values from this column are placed on the y-axis.\n",
    "\n",
    "data=df → uses your DataFrame.\n",
    "\n",
    "plt.title → adds a title.\n",
    "\n",
    "plt.show() → displays the chart.\n",
    "\n",
    "If both columns (HeartDiseaseorAttack and PhysActivity) are categorical (0/1), \n",
    "then the scatter plot will just show dots at 0 or 1 coordinates.\n",
    "\n",
    "If PhysActivity is numeric (like hours of physical activity)\n",
    "then it shows physical activity values vary between people with and without heart disease.\n",
    "\n"
   ]
  },
  {
   "cell_type": "code",
   "execution_count": 19,
   "id": "62dace7b",
   "metadata": {},
   "outputs": [
    {
     "data": {
      "image/png": "[encoded data removed]",
      "text/plain": [
       "<Figure size 432x288 with 1 Axes>"
      ]
     },
     "metadata": {
      "needs_background": "light"
     },
     "output_type": "display_data"
    }
   ],
   "source": [
    "sns.scatterplot(x='HeartDiseaseorAttack', y='PhysActivity', data=df)\n",
    "plt.title('HeartDiseaseorAttack vs PhysActivity')\n",
    "plt.show()"
   ]
  },
  {
   "cell_type": "markdown",
   "id": "07da5e26",
   "metadata": {},
   "source": [
    "Calculates the correlation coefficient (default = Pearson’s) between the two columns.\n",
    "\n",
    "Output will be a 2×2 correlation matrix.\n",
    "\n",
    "+1 → perfect positive correlation (both increase together)\n",
    "\n",
    "-1 → perfect negative correlation (one increases, other decreases)\n",
    "\n",
    "0 → no linear relationship\n",
    "\n",
    "So here, -0.23 means: people with more physical activity are slightly less likely to have heart disease (negative correlation)."
   ]
  },
  {
   "cell_type": "code",
   "execution_count": 20,
   "id": "0ea671a2",
   "metadata": {},
   "outputs": [
    {
     "name": "stdout",
     "output_type": "stream",
     "text": [
      "                      HeartDiseaseorAttack  PhysActivity\n",
      "HeartDiseaseorAttack              1.000000     -0.098223\n",
      "PhysActivity                     -0.098223      1.000000\n"
     ]
    },
    {
     "data": {
      "image/png": "[encoded data removed]",
      "text/plain": [
       "<Figure size 432x288 with 2 Axes>"
      ]
     },
     "metadata": {
      "needs_background": "light"
     },
     "output_type": "display_data"
    }
   ],
   "source": [
    "print(df[['HeartDiseaseorAttack', 'PhysActivity']].corr())\n",
    "sns.heatmap(df[['HeartDiseaseorAttack', 'PhysActivity']].corr(), annot=True, cmap='coolwarm')\n",
    "plt.show()"
   ]
  },
  {
   "cell_type": "markdown",
   "id": "6877b765",
   "metadata": {},
   "source": [
    "The plot shows how vegetable consumption (Veggies) varies between people who do and do not report heavy alcohol consumption.\n",
    "\n",
    "For each category (HvyAlcoholConsump = 0 or 1):\n",
    "\n",
    "The box = interquartile range (middle 50% of Veggie values).\n",
    "\n",
    "The line inside the box = median Veggie intake.\n",
    "\n",
    "The whiskers = spread of the rest of the data (within 1.5 × IQR).\n",
    "\n",
    "Dots outside whiskers = outliers (unusually high/low veggie intake)."
   ]
  },
  {
   "cell_type": "code",
   "execution_count": 21,
   "id": "080b73fe",
   "metadata": {},
   "outputs": [
    {
     "data": {
      "image/png": "[encoded data removed]",
      "text/plain": [
       "<Figure size 432x288 with 1 Axes>"
      ]
     },
     "metadata": {
      "needs_background": "light"
     },
     "output_type": "display_data"
    }
   ],
   "source": [
    "sns.boxplot(x='HvyAlcoholConsump', y='Veggies', data=df)\n",
    "plt.show()"
   ]
  },
  {
   "cell_type": "markdown",
   "id": "2472ebe5",
   "metadata": {},
   "source": [
    "sns.violinplot(...) → draws a violin plot, which is like a boxplot + kernel density plot combined.\n",
    "\n",
    "x='HighBP' → categories on the x-axis (likely 0 = No High BP, 1 = Has High BP).\n",
    "\n",
    "y='Diabetes' → values on the y-axis.\n"
   ]
  },
  {
   "cell_type": "markdown",
   "id": "00c81d5c",
   "metadata": {},
   "source": [
    "x='HighBP' → categories on x-axis (0 = No High BP, 1 = Has High BP).\n",
    "\n",
    "y='Diabetes' → values on y-axis (0 = No Diabetes, 1 = Has Diabetes)."
   ]
  },
  {
   "cell_type": "code",
   "execution_count": 22,
   "id": "dab408ce",
   "metadata": {},
   "outputs": [
    {
     "data": {
      "image/png": "[encoded data removed]",
      "text/plain": [
       "<Figure size 432x288 with 1 Axes>"
      ]
     },
     "metadata": {
      "needs_background": "light"
     },
     "output_type": "display_data"
    }
   ],
   "source": [
    "sns.violinplot(x='HighBP', y='Diabetes', data=df)\n",
    "plt.show()"
   ]
  },
  {
   "cell_type": "markdown",
   "id": "349e8e24",
   "metadata": {},
   "source": [
    "Makes a contingency table: rows = HighChol, columns = HighBP."
   ]
  },
  {
   "cell_type": "code",
   "execution_count": 23,
   "id": "f2544abd",
   "metadata": {},
   "outputs": [
    {
     "data": {
      "image/png": "[encoded data removed]",
      "text/plain": [
       "<Figure size 432x288 with 1 Axes>"
      ]
     },
     "metadata": {
      "needs_background": "light"
     },
     "output_type": "display_data"
    }
   ],
   "source": [
    "pd.crosstab(df['HighChol'], df['HighBP'], normalize='index') * 100\n",
    "sns.countplot(x='HighChol', hue='HighBP', data=df)\n",
    "plt.show()"
   ]
  },
  {
   "cell_type": "code",
   "execution_count": null,
   "id": "bcb12e20",
   "metadata": {},
   "outputs": [],
   "source": [
    "Groups the data by both HighChol and HighBP."
   ]
  },
  {
   "cell_type": "code",
   "execution_count": 24,
   "id": "e5b3dd65",
   "metadata": {},
   "outputs": [
    {
     "data": {
      "text/html": [
       "<div>\n",
       "<style scoped>\n",
       "    .dataframe tbody tr th:only-of-type {\n",
       "        vertical-align: middle;\n",
       "    }\n",
       "\n",
       "    .dataframe tbody tr th {\n",
       "        vertical-align: top;\n",
       "    }\n",
       "\n",
       "    .dataframe thead th {\n",
       "        text-align: right;\n",
       "    }\n",
       "</style>\n",
       "<table border=\"1\" class=\"dataframe\">\n",
       "  <thead>\n",
       "    <tr style=\"text-align: right;\">\n",
       "      <th>HighBP</th>\n",
       "      <th>0.0</th>\n",
       "      <th>1.0</th>\n",
       "    </tr>\n",
       "    <tr>\n",
       "      <th>HighChol</th>\n",
       "      <th></th>\n",
       "      <th></th>\n",
       "    </tr>\n",
       "  </thead>\n",
       "  <tbody>\n",
       "    <tr>\n",
       "      <th>0.0</th>\n",
       "      <td>0.0</td>\n",
       "      <td>1.0</td>\n",
       "    </tr>\n",
       "    <tr>\n",
       "      <th>1.0</th>\n",
       "      <td>0.0</td>\n",
       "      <td>1.0</td>\n",
       "    </tr>\n",
       "  </tbody>\n",
       "</table>\n",
       "</div>"
      ],
      "text/plain": [
       "HighBP    0.0  1.0\n",
       "HighChol          \n",
       "0.0       0.0  1.0\n",
       "1.0       0.0  1.0"
      ]
     },
     "execution_count": 24,
     "metadata": {},
     "output_type": "execute_result"
    }
   ],
   "source": [
    "df.groupby(['HighChol','HighBP'])['HighBP'].mean().unstack()"
   ]
  },
  {
   "cell_type": "code",
   "execution_count": 25,
   "id": "7cb843ff",
   "metadata": {},
   "outputs": [],
   "source": [
    "file_path = \"hypertension_data.csv\""
   ]
  },
  {
   "cell_type": "markdown",
   "id": "f8beb9cc",
   "metadata": {},
   "source": [
    "reads a CSV file into a Pandas DataFrame."
   ]
  },
  {
   "cell_type": "code",
   "execution_count": 26,
   "id": "63c837d8",
   "metadata": {},
   "outputs": [],
   "source": [
    "df = pd.read_csv(r\"C:\\Users\\user\\Desktop\\DAFINAL PROJECT\\archive\\hypertension_data.csv\")"
   ]
  },
  {
   "cell_type": "code",
   "execution_count": 27,
   "id": "2495d4b4",
   "metadata": {},
   "outputs": [
    {
     "data": {
      "text/html": [
       "<div>\n",
       "<style scoped>\n",
       "    .dataframe tbody tr th:only-of-type {\n",
       "        vertical-align: middle;\n",
       "    }\n",
       "\n",
       "    .dataframe tbody tr th {\n",
       "        vertical-align: top;\n",
       "    }\n",
       "\n",
       "    .dataframe thead th {\n",
       "        text-align: right;\n",
       "    }\n",
       "</style>\n",
       "<table border=\"1\" class=\"dataframe\">\n",
       "  <thead>\n",
       "    <tr style=\"text-align: right;\">\n",
       "      <th></th>\n",
       "      <th>age</th>\n",
       "      <th>sex</th>\n",
       "      <th>cp</th>\n",
       "      <th>trestbps</th>\n",
       "      <th>chol</th>\n",
       "      <th>fbs</th>\n",
       "      <th>restecg</th>\n",
       "      <th>thalach</th>\n",
       "      <th>exang</th>\n",
       "      <th>oldpeak</th>\n",
       "      <th>slope</th>\n",
       "      <th>ca</th>\n",
       "      <th>thal</th>\n",
       "      <th>target</th>\n",
       "    </tr>\n",
       "  </thead>\n",
       "  <tbody>\n",
       "    <tr>\n",
       "      <th>0</th>\n",
       "      <td>57.0</td>\n",
       "      <td>1.0</td>\n",
       "      <td>3</td>\n",
       "      <td>145</td>\n",
       "      <td>233</td>\n",
       "      <td>1</td>\n",
       "      <td>0</td>\n",
       "      <td>150</td>\n",
       "      <td>0</td>\n",
       "      <td>2.3</td>\n",
       "      <td>0</td>\n",
       "      <td>0</td>\n",
       "      <td>1</td>\n",
       "      <td>1</td>\n",
       "    </tr>\n",
       "    <tr>\n",
       "      <th>1</th>\n",
       "      <td>64.0</td>\n",
       "      <td>0.0</td>\n",
       "      <td>2</td>\n",
       "      <td>130</td>\n",
       "      <td>250</td>\n",
       "      <td>0</td>\n",
       "      <td>1</td>\n",
       "      <td>187</td>\n",
       "      <td>0</td>\n",
       "      <td>3.5</td>\n",
       "      <td>0</td>\n",
       "      <td>0</td>\n",
       "      <td>2</td>\n",
       "      <td>1</td>\n",
       "    </tr>\n",
       "    <tr>\n",
       "      <th>2</th>\n",
       "      <td>52.0</td>\n",
       "      <td>1.0</td>\n",
       "      <td>1</td>\n",
       "      <td>130</td>\n",
       "      <td>204</td>\n",
       "      <td>0</td>\n",
       "      <td>0</td>\n",
       "      <td>172</td>\n",
       "      <td>0</td>\n",
       "      <td>1.4</td>\n",
       "      <td>2</td>\n",
       "      <td>0</td>\n",
       "      <td>2</td>\n",
       "      <td>1</td>\n",
       "    </tr>\n",
       "    <tr>\n",
       "      <th>3</th>\n",
       "      <td>56.0</td>\n",
       "      <td>0.0</td>\n",
       "      <td>1</td>\n",
       "      <td>120</td>\n",
       "      <td>236</td>\n",
       "      <td>0</td>\n",
       "      <td>1</td>\n",
       "      <td>178</td>\n",
       "      <td>0</td>\n",
       "      <td>0.8</td>\n",
       "      <td>2</td>\n",
       "      <td>0</td>\n",
       "      <td>2</td>\n",
       "      <td>1</td>\n",
       "    </tr>\n",
       "    <tr>\n",
       "      <th>4</th>\n",
       "      <td>66.0</td>\n",
       "      <td>0.0</td>\n",
       "      <td>0</td>\n",
       "      <td>120</td>\n",
       "      <td>354</td>\n",
       "      <td>0</td>\n",
       "      <td>1</td>\n",
       "      <td>163</td>\n",
       "      <td>1</td>\n",
       "      <td>0.6</td>\n",
       "      <td>2</td>\n",
       "      <td>0</td>\n",
       "      <td>2</td>\n",
       "      <td>1</td>\n",
       "    </tr>\n",
       "    <tr>\n",
       "      <th>...</th>\n",
       "      <td>...</td>\n",
       "      <td>...</td>\n",
       "      <td>...</td>\n",
       "      <td>...</td>\n",
       "      <td>...</td>\n",
       "      <td>...</td>\n",
       "      <td>...</td>\n",
       "      <td>...</td>\n",
       "      <td>...</td>\n",
       "      <td>...</td>\n",
       "      <td>...</td>\n",
       "      <td>...</td>\n",
       "      <td>...</td>\n",
       "      <td>...</td>\n",
       "    </tr>\n",
       "    <tr>\n",
       "      <th>26078</th>\n",
       "      <td>72.0</td>\n",
       "      <td>0.0</td>\n",
       "      <td>0</td>\n",
       "      <td>138</td>\n",
       "      <td>294</td>\n",
       "      <td>1</td>\n",
       "      <td>1</td>\n",
       "      <td>106</td>\n",
       "      <td>0</td>\n",
       "      <td>1.9</td>\n",
       "      <td>1</td>\n",
       "      <td>3</td>\n",
       "      <td>2</td>\n",
       "      <td>0</td>\n",
       "    </tr>\n",
       "    <tr>\n",
       "      <th>26079</th>\n",
       "      <td>60.0</td>\n",
       "      <td>1.0</td>\n",
       "      <td>0</td>\n",
       "      <td>144</td>\n",
       "      <td>200</td>\n",
       "      <td>0</td>\n",
       "      <td>0</td>\n",
       "      <td>126</td>\n",
       "      <td>1</td>\n",
       "      <td>0.9</td>\n",
       "      <td>1</td>\n",
       "      <td>0</td>\n",
       "      <td>3</td>\n",
       "      <td>0</td>\n",
       "    </tr>\n",
       "    <tr>\n",
       "      <th>26080</th>\n",
       "      <td>68.0</td>\n",
       "      <td>1.0</td>\n",
       "      <td>0</td>\n",
       "      <td>100</td>\n",
       "      <td>234</td>\n",
       "      <td>0</td>\n",
       "      <td>1</td>\n",
       "      <td>156</td>\n",
       "      <td>0</td>\n",
       "      <td>0.1</td>\n",
       "      <td>2</td>\n",
       "      <td>1</td>\n",
       "      <td>3</td>\n",
       "      <td>0</td>\n",
       "    </tr>\n",
       "    <tr>\n",
       "      <th>26081</th>\n",
       "      <td>67.0</td>\n",
       "      <td>1.0</td>\n",
       "      <td>1</td>\n",
       "      <td>154</td>\n",
       "      <td>232</td>\n",
       "      <td>0</td>\n",
       "      <td>0</td>\n",
       "      <td>164</td>\n",
       "      <td>0</td>\n",
       "      <td>0.0</td>\n",
       "      <td>2</td>\n",
       "      <td>1</td>\n",
       "      <td>2</td>\n",
       "      <td>0</td>\n",
       "    </tr>\n",
       "    <tr>\n",
       "      <th>26082</th>\n",
       "      <td>67.0</td>\n",
       "      <td>0.0</td>\n",
       "      <td>1</td>\n",
       "      <td>130</td>\n",
       "      <td>236</td>\n",
       "      <td>0</td>\n",
       "      <td>0</td>\n",
       "      <td>174</td>\n",
       "      <td>0</td>\n",
       "      <td>0.0</td>\n",
       "      <td>1</td>\n",
       "      <td>1</td>\n",
       "      <td>2</td>\n",
       "      <td>0</td>\n",
       "    </tr>\n",
       "  </tbody>\n",
       "</table>\n",
       "<p>26083 rows × 14 columns</p>\n",
       "</div>"
      ],
      "text/plain": [
       "        age  sex  cp  trestbps  chol  fbs  restecg  thalach  exang  oldpeak  \\\n",
       "0      57.0  1.0   3       145   233    1        0      150      0      2.3   \n",
       "1      64.0  0.0   2       130   250    0        1      187      0      3.5   \n",
       "2      52.0  1.0   1       130   204    0        0      172      0      1.4   \n",
       "3      56.0  0.0   1       120   236    0        1      178      0      0.8   \n",
       "4      66.0  0.0   0       120   354    0        1      163      1      0.6   \n",
       "...     ...  ...  ..       ...   ...  ...      ...      ...    ...      ...   \n",
       "26078  72.0  0.0   0       138   294    1        1      106      0      1.9   \n",
       "26079  60.0  1.0   0       144   200    0        0      126      1      0.9   \n",
       "26080  68.0  1.0   0       100   234    0        1      156      0      0.1   \n",
       "26081  67.0  1.0   1       154   232    0        0      164      0      0.0   \n",
       "26082  67.0  0.0   1       130   236    0        0      174      0      0.0   \n",
       "\n",
       "       slope  ca  thal  target  \n",
       "0          0   0     1       1  \n",
       "1          0   0     2       1  \n",
       "2          2   0     2       1  \n",
       "3          2   0     2       1  \n",
       "4          2   0     2       1  \n",
       "...      ...  ..   ...     ...  \n",
       "26078      1   3     2       0  \n",
       "26079      1   0     3       0  \n",
       "26080      2   1     3       0  \n",
       "26081      2   1     2       0  \n",
       "26082      1   1     2       0  \n",
       "\n",
       "[26083 rows x 14 columns]"
      ]
     },
     "execution_count": 27,
     "metadata": {},
     "output_type": "execute_result"
    }
   ],
   "source": [
    "df"
   ]
  },
  {
   "cell_type": "code",
   "execution_count": 28,
   "id": "3bcd364b",
   "metadata": {},
   "outputs": [
    {
     "name": "stdout",
     "output_type": "stream",
     "text": [
      "                age          sex            cp      trestbps          chol  \\\n",
      "count  26083.000000  26058.00000  26083.000000  26083.000000  26083.000000   \n",
      "mean      55.661389      0.50000      0.958594    131.592992    246.246061   \n",
      "std       15.189768      0.50001      1.023931     17.588809     51.643522   \n",
      "min       11.000000      0.00000      0.000000     94.000000    126.000000   \n",
      "25%       44.000000      0.00000      0.000000    120.000000    211.000000   \n",
      "50%       56.000000      0.50000      1.000000    130.000000    240.000000   \n",
      "75%       67.000000      1.00000      2.000000    140.000000    275.000000   \n",
      "max       98.000000      1.00000      3.000000    200.000000    564.000000   \n",
      "\n",
      "                fbs       restecg       thalach         exang       oldpeak  \\\n",
      "count  26083.000000  26083.000000  26083.000000  26083.000000  26083.000000   \n",
      "mean       0.149753      0.526512    149.655024      0.326573      1.039512   \n",
      "std        0.356836      0.525641     22.858109      0.468969      1.165138   \n",
      "min        0.000000      0.000000     71.000000      0.000000      0.000000   \n",
      "25%        0.000000      0.000000    133.000000      0.000000      0.000000   \n",
      "50%        0.000000      1.000000    153.000000      0.000000      0.800000   \n",
      "75%        0.000000      1.000000    166.000000      1.000000      1.600000   \n",
      "max        1.000000      2.000000    202.000000      1.000000      6.200000   \n",
      "\n",
      "              slope            ca          thal        target  \n",
      "count  26083.000000  26083.000000  26083.000000  26083.000000  \n",
      "mean       1.400299      0.721849      2.318752      0.547253  \n",
      "std        0.616513      1.011608      0.604659      0.497772  \n",
      "min        0.000000      0.000000      0.000000      0.000000  \n",
      "25%        1.000000      0.000000      2.000000      0.000000  \n",
      "50%        1.000000      0.000000      2.000000      1.000000  \n",
      "75%        2.000000      1.000000      3.000000      1.000000  \n",
      "max        2.000000      4.000000      3.000000      1.000000  \n"
     ]
    }
   ],
   "source": [
    "print(df.describe())"
   ]
  },
  {
   "cell_type": "markdown",
   "id": "60aa83f7",
   "metadata": {},
   "source": [
    "selects the fbs column from your dataset.\n",
    "plots a histogram\n",
    "\n",
    "plot:\n",
    "\n",
    "X-axis → values of fbs (fasting blood sugar).\n",
    "\n",
    "Y-axis → frequency (number of people with those fbs values).\n",
    "\n",
    "The shape of the histogram shows the distribution:\n",
    "\n",
    "Normal, skewed, or concentrated at specific values."
   ]
  },
  {
   "cell_type": "code",
   "execution_count": 29,
   "id": "5fefbb0d",
   "metadata": {},
   "outputs": [
    {
     "data": {
      "text/plain": [
       "<AxesSubplot:>"
      ]
     },
     "execution_count": 29,
     "metadata": {},
     "output_type": "execute_result"
    },
    {
     "data": {
      "image/png": "[encoded data removed]",
      "text/plain": [
       "<Figure size 432x288 with 1 Axes>"
      ]
     },
     "metadata": {
      "needs_background": "light"
     },
     "output_type": "display_data"
    }
   ],
   "source": [
    "df['fbs'].hist(bins=30, edgecolor='black')"
   ]
  },
  {
   "cell_type": "markdown",
   "id": "fa74d1a2",
   "metadata": {},
   "source": [
    "This will display the distribution of fasting blood sugar values."
   ]
  },
  {
   "cell_type": "code",
   "execution_count": 31,
   "id": "b4260ab6",
   "metadata": {},
   "outputs": [
    {
     "data": {
      "text/plain": [
       "<AxesSubplot:title={'center':'Distribution of fbs'}>"
      ]
     },
     "execution_count": 31,
     "metadata": {},
     "output_type": "execute_result"
    },
    {
     "data": {
      "image/png": "[encoded data removed]",
      "text/plain": [
       "<Figure size 432x288 with 1 Axes>"
      ]
     },
     "metadata": {
      "needs_background": "light"
     },
     "output_type": "display_data"
    }
   ],
   "source": [
    "plt.title('Distribution of fbs')\n",
    "df['fbs'].hist(bins=30, edgecolor='black')"
   ]
  },
  {
   "cell_type": "markdown",
   "id": "eacba9b0",
   "metadata": {},
   "source": [
    "makes a bar chart of counts.\n",
    "\n",
    "x='chol' → uses the column chol (cholesterol) on the x-axis.\n",
    "X-axis → cholesterol values.\n",
    "\n",
    "Y-axis → how many people have that cholesterol value."
   ]
  },
  {
   "cell_type": "code",
   "execution_count": 32,
   "id": "971b41dd",
   "metadata": {},
   "outputs": [
    {
     "data": {
      "text/plain": [
       "<AxesSubplot:xlabel='chol', ylabel='count'>"
      ]
     },
     "execution_count": 32,
     "metadata": {},
     "output_type": "execute_result"
    },
    {
     "data": {
      "image/png": "[encoded data removed]",
      "text/plain": [
       "<Figure size 432x288 with 1 Axes>"
      ]
     },
     "metadata": {
      "needs_background": "light"
     },
     "output_type": "display_data"
    }
   ],
   "source": [
    "sns.countplot(x='chol', data=df)"
   ]
  },
  {
   "cell_type": "code",
   "execution_count": 33,
   "id": "c98b7adb",
   "metadata": {},
   "outputs": [
    {
     "data": {
      "text/plain": [
       "<AxesSubplot:xlabel='fbs', ylabel='count'>"
      ]
     },
     "execution_count": 33,
     "metadata": {},
     "output_type": "execute_result"
    },
    {
     "data": {
      "image/png": "[encoded data removed]",
      "text/plain": [
       "<Figure size 432x288 with 1 Axes>"
      ]
     },
     "metadata": {
      "needs_background": "light"
     },
     "output_type": "display_data"
    }
   ],
   "source": [
    "sns.countplot(x='fbs', data=df)"
   ]
  },
  {
   "cell_type": "markdown",
   "id": "c7bcedc4",
   "metadata": {},
   "source": [
    "ounts how many times each resting BP value occurs.\n",
    "\n",
    "normalize=True → converts counts into fractions of the total.\n"
   ]
  },
  {
   "cell_type": "code",
   "execution_count": 34,
   "id": "d900c0e2",
   "metadata": {},
   "outputs": [
    {
     "name": "stdout",
     "output_type": "stream",
     "text": [
      "120    12.314534\n",
      "130    11.877468\n",
      "140    10.742629\n",
      "110     6.379634\n",
      "150     5.559176\n",
      "128     3.994939\n",
      "138     3.956600\n",
      "125     3.665223\n",
      "160     3.634551\n",
      "112     2.929111\n",
      "132     2.599394\n",
      "118     2.361692\n",
      "108     1.978300\n",
      "124     1.970632\n",
      "135     1.932293\n",
      "145     1.732929\n",
      "152     1.602576\n",
      "134     1.529732\n",
      "122     1.326535\n",
      "100     1.311199\n",
      "170     1.257524\n",
      "180     1.073496\n",
      "105     1.019821\n",
      "115     1.004486\n",
      "142     0.981482\n",
      "126     0.981482\n",
      "136     0.927807\n",
      "146     0.720776\n",
      "144     0.705440\n",
      "94      0.682437\n",
      "178     0.667101\n",
      "102     0.644098\n",
      "148     0.636430\n",
      "155     0.375724\n",
      "101     0.368056\n",
      "117     0.360388\n",
      "200     0.360388\n",
      "154     0.345052\n",
      "156     0.337385\n",
      "164     0.329717\n",
      "192     0.322049\n",
      "106     0.314381\n",
      "165     0.314381\n",
      "174     0.314381\n",
      "129     0.314381\n",
      "123     0.314381\n",
      "104     0.314381\n",
      "172     0.306713\n",
      "114     0.306713\n",
      "Name: trestbps, dtype: float64\n"
     ]
    }
   ],
   "source": [
    "print(df['trestbps'].value_counts(normalize=True) * 100)"
   ]
  },
  {
   "cell_type": "markdown",
   "id": "fe796240",
   "metadata": {},
   "source": [
    "Creates a correlation matrix for the columns age and fbs.\n",
    "\n",
    "Since fbs is usually binary (0 = no, 1 = yes), the correlation tells you how strongly age is associated with higher fasting blood sugar."
   ]
  },
  {
   "cell_type": "code",
   "execution_count": 37,
   "id": "1f0891ce",
   "metadata": {},
   "outputs": [
    {
     "name": "stdout",
     "output_type": "stream",
     "text": [
      "          age       fbs\n",
      "age  1.000000 -0.006638\n",
      "fbs -0.006638  1.000000\n"
     ]
    },
    {
     "data": {
      "image/png": "[encoded data removed]",
      "text/plain": [
       "<Figure size 432x288 with 2 Axes>"
      ]
     },
     "metadata": {
      "needs_background": "light"
     },
     "output_type": "display_data"
    }
   ],
   "source": [
    "print(df[['age','fbs']].corr())\n",
    "sns.heatmap(df[['age','fbs']].corr(), annot=True, cmap='coolwarm')\n",
    "plt.show()"
   ]
  },
  {
   "cell_type": "markdown",
   "id": "494eaf46",
   "metadata": {},
   "source": [
    "Creates a frequency table of age (rows) vs fbs (columns).\n",
    "\n",
    "Shows absolute counts of each fbs category within each age."
   ]
  },
  {
   "cell_type": "code",
   "execution_count": 41,
   "id": "926b159c",
   "metadata": {},
   "outputs": [
    {
     "data": {
      "image/png": "[encoded data removed]",
      "text/plain": [
       "<Figure size 432x288 with 1 Axes>"
      ]
     },
     "metadata": {
      "needs_background": "light"
     },
     "output_type": "display_data"
    }
   ],
   "source": [
    "pd.crosstab(df['age'], df['fbs'], normalize='index') * 100\n",
    "sns.countplot(x='age',hue='fbs', data=df)\n",
    "plt.show()"
   ]
  },
  {
   "cell_type": "code",
   "execution_count": 42,
   "id": "d86ba015",
   "metadata": {},
   "outputs": [],
   "source": [
    "file_path = \"stroke_data.csv\""
   ]
  },
  {
   "cell_type": "markdown",
   "id": "57b16930",
   "metadata": {},
   "source": [
    "This line reads the CSV file into a Pandas DataFrame named df"
   ]
  },
  {
   "cell_type": "code",
   "execution_count": 43,
   "id": "0fdc295c",
   "metadata": {},
   "outputs": [],
   "source": [
    "df = pd.read_csv(r\"C:\\Users\\user\\Desktop\\DAFINAL PROJECT\\archive\\stroke_data.csv\")"
   ]
  },
  {
   "cell_type": "code",
   "execution_count": 44,
   "id": "6ee77925",
   "metadata": {},
   "outputs": [
    {
     "data": {
      "text/html": [
       "<div>\n",
       "<style scoped>\n",
       "    .dataframe tbody tr th:only-of-type {\n",
       "        vertical-align: middle;\n",
       "    }\n",
       "\n",
       "    .dataframe tbody tr th {\n",
       "        vertical-align: top;\n",
       "    }\n",
       "\n",
       "    .dataframe thead th {\n",
       "        text-align: right;\n",
       "    }\n",
       "</style>\n",
       "<table border=\"1\" class=\"dataframe\">\n",
       "  <thead>\n",
       "    <tr style=\"text-align: right;\">\n",
       "      <th></th>\n",
       "      <th>sex</th>\n",
       "      <th>age</th>\n",
       "      <th>hypertension</th>\n",
       "      <th>heart_disease</th>\n",
       "      <th>ever_married</th>\n",
       "      <th>work_type</th>\n",
       "      <th>Residence_type</th>\n",
       "      <th>avg_glucose_level</th>\n",
       "      <th>bmi</th>\n",
       "      <th>smoking_status</th>\n",
       "      <th>stroke</th>\n",
       "    </tr>\n",
       "  </thead>\n",
       "  <tbody>\n",
       "    <tr>\n",
       "      <th>0</th>\n",
       "      <td>1.0</td>\n",
       "      <td>63.0</td>\n",
       "      <td>0</td>\n",
       "      <td>1</td>\n",
       "      <td>1</td>\n",
       "      <td>4</td>\n",
       "      <td>1</td>\n",
       "      <td>228.69</td>\n",
       "      <td>36.6</td>\n",
       "      <td>1</td>\n",
       "      <td>1</td>\n",
       "    </tr>\n",
       "    <tr>\n",
       "      <th>1</th>\n",
       "      <td>1.0</td>\n",
       "      <td>42.0</td>\n",
       "      <td>0</td>\n",
       "      <td>1</td>\n",
       "      <td>1</td>\n",
       "      <td>4</td>\n",
       "      <td>0</td>\n",
       "      <td>105.92</td>\n",
       "      <td>32.5</td>\n",
       "      <td>0</td>\n",
       "      <td>1</td>\n",
       "    </tr>\n",
       "    <tr>\n",
       "      <th>2</th>\n",
       "      <td>0.0</td>\n",
       "      <td>61.0</td>\n",
       "      <td>0</td>\n",
       "      <td>0</td>\n",
       "      <td>1</td>\n",
       "      <td>4</td>\n",
       "      <td>1</td>\n",
       "      <td>171.23</td>\n",
       "      <td>34.4</td>\n",
       "      <td>1</td>\n",
       "      <td>1</td>\n",
       "    </tr>\n",
       "    <tr>\n",
       "      <th>3</th>\n",
       "      <td>1.0</td>\n",
       "      <td>41.0</td>\n",
       "      <td>1</td>\n",
       "      <td>0</td>\n",
       "      <td>1</td>\n",
       "      <td>3</td>\n",
       "      <td>0</td>\n",
       "      <td>174.12</td>\n",
       "      <td>24.0</td>\n",
       "      <td>0</td>\n",
       "      <td>1</td>\n",
       "    </tr>\n",
       "    <tr>\n",
       "      <th>4</th>\n",
       "      <td>1.0</td>\n",
       "      <td>85.0</td>\n",
       "      <td>0</td>\n",
       "      <td>0</td>\n",
       "      <td>1</td>\n",
       "      <td>4</td>\n",
       "      <td>1</td>\n",
       "      <td>186.21</td>\n",
       "      <td>29.0</td>\n",
       "      <td>1</td>\n",
       "      <td>1</td>\n",
       "    </tr>\n",
       "    <tr>\n",
       "      <th>...</th>\n",
       "      <td>...</td>\n",
       "      <td>...</td>\n",
       "      <td>...</td>\n",
       "      <td>...</td>\n",
       "      <td>...</td>\n",
       "      <td>...</td>\n",
       "      <td>...</td>\n",
       "      <td>...</td>\n",
       "      <td>...</td>\n",
       "      <td>...</td>\n",
       "      <td>...</td>\n",
       "    </tr>\n",
       "    <tr>\n",
       "      <th>40905</th>\n",
       "      <td>1.0</td>\n",
       "      <td>38.0</td>\n",
       "      <td>0</td>\n",
       "      <td>0</td>\n",
       "      <td>0</td>\n",
       "      <td>4</td>\n",
       "      <td>1</td>\n",
       "      <td>120.94</td>\n",
       "      <td>29.7</td>\n",
       "      <td>1</td>\n",
       "      <td>0</td>\n",
       "    </tr>\n",
       "    <tr>\n",
       "      <th>40906</th>\n",
       "      <td>0.0</td>\n",
       "      <td>53.0</td>\n",
       "      <td>0</td>\n",
       "      <td>0</td>\n",
       "      <td>1</td>\n",
       "      <td>4</td>\n",
       "      <td>0</td>\n",
       "      <td>77.66</td>\n",
       "      <td>40.8</td>\n",
       "      <td>0</td>\n",
       "      <td>0</td>\n",
       "    </tr>\n",
       "    <tr>\n",
       "      <th>40907</th>\n",
       "      <td>1.0</td>\n",
       "      <td>32.0</td>\n",
       "      <td>0</td>\n",
       "      <td>0</td>\n",
       "      <td>1</td>\n",
       "      <td>2</td>\n",
       "      <td>0</td>\n",
       "      <td>231.95</td>\n",
       "      <td>33.2</td>\n",
       "      <td>0</td>\n",
       "      <td>0</td>\n",
       "    </tr>\n",
       "    <tr>\n",
       "      <th>40908</th>\n",
       "      <td>1.0</td>\n",
       "      <td>42.0</td>\n",
       "      <td>0</td>\n",
       "      <td>0</td>\n",
       "      <td>1</td>\n",
       "      <td>3</td>\n",
       "      <td>0</td>\n",
       "      <td>216.38</td>\n",
       "      <td>34.5</td>\n",
       "      <td>0</td>\n",
       "      <td>0</td>\n",
       "    </tr>\n",
       "    <tr>\n",
       "      <th>40909</th>\n",
       "      <td>1.0</td>\n",
       "      <td>35.0</td>\n",
       "      <td>0</td>\n",
       "      <td>0</td>\n",
       "      <td>0</td>\n",
       "      <td>4</td>\n",
       "      <td>0</td>\n",
       "      <td>95.01</td>\n",
       "      <td>28.0</td>\n",
       "      <td>0</td>\n",
       "      <td>0</td>\n",
       "    </tr>\n",
       "  </tbody>\n",
       "</table>\n",
       "<p>40910 rows × 11 columns</p>\n",
       "</div>"
      ],
      "text/plain": [
       "       sex   age  hypertension  heart_disease  ever_married  work_type  \\\n",
       "0      1.0  63.0             0              1             1          4   \n",
       "1      1.0  42.0             0              1             1          4   \n",
       "2      0.0  61.0             0              0             1          4   \n",
       "3      1.0  41.0             1              0             1          3   \n",
       "4      1.0  85.0             0              0             1          4   \n",
       "...    ...   ...           ...            ...           ...        ...   \n",
       "40905  1.0  38.0             0              0             0          4   \n",
       "40906  0.0  53.0             0              0             1          4   \n",
       "40907  1.0  32.0             0              0             1          2   \n",
       "40908  1.0  42.0             0              0             1          3   \n",
       "40909  1.0  35.0             0              0             0          4   \n",
       "\n",
       "       Residence_type  avg_glucose_level   bmi  smoking_status  stroke  \n",
       "0                   1             228.69  36.6               1       1  \n",
       "1                   0             105.92  32.5               0       1  \n",
       "2                   1             171.23  34.4               1       1  \n",
       "3                   0             174.12  24.0               0       1  \n",
       "4                   1             186.21  29.0               1       1  \n",
       "...               ...                ...   ...             ...     ...  \n",
       "40905               1             120.94  29.7               1       0  \n",
       "40906               0              77.66  40.8               0       0  \n",
       "40907               0             231.95  33.2               0       0  \n",
       "40908               0             216.38  34.5               0       0  \n",
       "40909               0              95.01  28.0               0       0  \n",
       "\n",
       "[40910 rows x 11 columns]"
      ]
     },
     "execution_count": 44,
     "metadata": {},
     "output_type": "execute_result"
    }
   ],
   "source": [
    "df"
   ]
  },
  {
   "cell_type": "code",
   "execution_count": 46,
   "id": "3fb488e7",
   "metadata": {},
   "outputs": [
    {
     "data": {
      "text/html": [
       "<div>\n",
       "<style scoped>\n",
       "    .dataframe tbody tr th:only-of-type {\n",
       "        vertical-align: middle;\n",
       "    }\n",
       "\n",
       "    .dataframe tbody tr th {\n",
       "        vertical-align: top;\n",
       "    }\n",
       "\n",
       "    .dataframe thead th {\n",
       "        text-align: right;\n",
       "    }\n",
       "</style>\n",
       "<table border=\"1\" class=\"dataframe\">\n",
       "  <thead>\n",
       "    <tr style=\"text-align: right;\">\n",
       "      <th></th>\n",
       "      <th>sex</th>\n",
       "      <th>age</th>\n",
       "      <th>hypertension</th>\n",
       "      <th>heart_disease</th>\n",
       "      <th>ever_married</th>\n",
       "      <th>work_type</th>\n",
       "      <th>Residence_type</th>\n",
       "      <th>avg_glucose_level</th>\n",
       "      <th>bmi</th>\n",
       "      <th>smoking_status</th>\n",
       "      <th>stroke</th>\n",
       "    </tr>\n",
       "  </thead>\n",
       "  <tbody>\n",
       "    <tr>\n",
       "      <th>count</th>\n",
       "      <td>40907.000000</td>\n",
       "      <td>40910.000000</td>\n",
       "      <td>40910.000000</td>\n",
       "      <td>40910.000000</td>\n",
       "      <td>40910.000000</td>\n",
       "      <td>40910.000000</td>\n",
       "      <td>40910.000000</td>\n",
       "      <td>40910.000000</td>\n",
       "      <td>40910.000000</td>\n",
       "      <td>40910.000000</td>\n",
       "      <td>40910.000000</td>\n",
       "    </tr>\n",
       "    <tr>\n",
       "      <th>mean</th>\n",
       "      <td>0.555162</td>\n",
       "      <td>51.327255</td>\n",
       "      <td>0.213835</td>\n",
       "      <td>0.127719</td>\n",
       "      <td>0.821340</td>\n",
       "      <td>3.461134</td>\n",
       "      <td>0.514886</td>\n",
       "      <td>122.075901</td>\n",
       "      <td>30.406355</td>\n",
       "      <td>0.488609</td>\n",
       "      <td>0.500122</td>\n",
       "    </tr>\n",
       "    <tr>\n",
       "      <th>std</th>\n",
       "      <td>0.496954</td>\n",
       "      <td>21.623969</td>\n",
       "      <td>0.410017</td>\n",
       "      <td>0.333781</td>\n",
       "      <td>0.383072</td>\n",
       "      <td>0.780919</td>\n",
       "      <td>0.499784</td>\n",
       "      <td>57.561531</td>\n",
       "      <td>6.835072</td>\n",
       "      <td>0.499876</td>\n",
       "      <td>0.500006</td>\n",
       "    </tr>\n",
       "    <tr>\n",
       "      <th>min</th>\n",
       "      <td>0.000000</td>\n",
       "      <td>-9.000000</td>\n",
       "      <td>0.000000</td>\n",
       "      <td>0.000000</td>\n",
       "      <td>0.000000</td>\n",
       "      <td>0.000000</td>\n",
       "      <td>0.000000</td>\n",
       "      <td>55.120000</td>\n",
       "      <td>11.500000</td>\n",
       "      <td>0.000000</td>\n",
       "      <td>0.000000</td>\n",
       "    </tr>\n",
       "    <tr>\n",
       "      <th>25%</th>\n",
       "      <td>0.000000</td>\n",
       "      <td>35.000000</td>\n",
       "      <td>0.000000</td>\n",
       "      <td>0.000000</td>\n",
       "      <td>1.000000</td>\n",
       "      <td>3.000000</td>\n",
       "      <td>0.000000</td>\n",
       "      <td>78.750000</td>\n",
       "      <td>25.900000</td>\n",
       "      <td>0.000000</td>\n",
       "      <td>0.000000</td>\n",
       "    </tr>\n",
       "    <tr>\n",
       "      <th>50%</th>\n",
       "      <td>1.000000</td>\n",
       "      <td>52.000000</td>\n",
       "      <td>0.000000</td>\n",
       "      <td>0.000000</td>\n",
       "      <td>1.000000</td>\n",
       "      <td>4.000000</td>\n",
       "      <td>1.000000</td>\n",
       "      <td>97.920000</td>\n",
       "      <td>29.400000</td>\n",
       "      <td>0.000000</td>\n",
       "      <td>1.000000</td>\n",
       "    </tr>\n",
       "    <tr>\n",
       "      <th>75%</th>\n",
       "      <td>1.000000</td>\n",
       "      <td>68.000000</td>\n",
       "      <td>0.000000</td>\n",
       "      <td>0.000000</td>\n",
       "      <td>1.000000</td>\n",
       "      <td>4.000000</td>\n",
       "      <td>1.000000</td>\n",
       "      <td>167.590000</td>\n",
       "      <td>34.100000</td>\n",
       "      <td>1.000000</td>\n",
       "      <td>1.000000</td>\n",
       "    </tr>\n",
       "    <tr>\n",
       "      <th>max</th>\n",
       "      <td>1.000000</td>\n",
       "      <td>103.000000</td>\n",
       "      <td>1.000000</td>\n",
       "      <td>1.000000</td>\n",
       "      <td>1.000000</td>\n",
       "      <td>4.000000</td>\n",
       "      <td>1.000000</td>\n",
       "      <td>271.740000</td>\n",
       "      <td>92.000000</td>\n",
       "      <td>1.000000</td>\n",
       "      <td>1.000000</td>\n",
       "    </tr>\n",
       "  </tbody>\n",
       "</table>\n",
       "</div>"
      ],
      "text/plain": [
       "                sex           age  hypertension  heart_disease  ever_married  \\\n",
       "count  40907.000000  40910.000000  40910.000000   40910.000000  40910.000000   \n",
       "mean       0.555162     51.327255      0.213835       0.127719      0.821340   \n",
       "std        0.496954     21.623969      0.410017       0.333781      0.383072   \n",
       "min        0.000000     -9.000000      0.000000       0.000000      0.000000   \n",
       "25%        0.000000     35.000000      0.000000       0.000000      1.000000   \n",
       "50%        1.000000     52.000000      0.000000       0.000000      1.000000   \n",
       "75%        1.000000     68.000000      0.000000       0.000000      1.000000   \n",
       "max        1.000000    103.000000      1.000000       1.000000      1.000000   \n",
       "\n",
       "          work_type  Residence_type  avg_glucose_level           bmi  \\\n",
       "count  40910.000000    40910.000000       40910.000000  40910.000000   \n",
       "mean       3.461134        0.514886         122.075901     30.406355   \n",
       "std        0.780919        0.499784          57.561531      6.835072   \n",
       "min        0.000000        0.000000          55.120000     11.500000   \n",
       "25%        3.000000        0.000000          78.750000     25.900000   \n",
       "50%        4.000000        1.000000          97.920000     29.400000   \n",
       "75%        4.000000        1.000000         167.590000     34.100000   \n",
       "max        4.000000        1.000000         271.740000     92.000000   \n",
       "\n",
       "       smoking_status        stroke  \n",
       "count    40910.000000  40910.000000  \n",
       "mean         0.488609      0.500122  \n",
       "std          0.499876      0.500006  \n",
       "min          0.000000      0.000000  \n",
       "25%          0.000000      0.000000  \n",
       "50%          0.000000      1.000000  \n",
       "75%          1.000000      1.000000  \n",
       "max          1.000000      1.000000  "
      ]
     },
     "execution_count": 46,
     "metadata": {},
     "output_type": "execute_result"
    }
   ],
   "source": [
    "df.describe()"
   ]
  },
  {
   "cell_type": "markdown",
   "id": "c53b4ce3",
   "metadata": {},
   "source": [
    "X-axis → Glucose levels (grouped into 30 bins).\n",
    "\n",
    "Y-axis → Number of people in each range.\n",
    "\n",
    "This selects the avg_glucose_level column from your DataFrame df.\n",
    "\n",
    "In the stroke dataset, this column usually contains each patient’s average glucose level in blood (a numeric variable).\n",
    "\n",
    "hist() → creates a histogram of the numeric values.\n",
    "\n",
    "bins=30 → splits the data into 30 intervals (bins) along the x-axis.\n",
    "\n",
    "Helps identify if glucose levels are:\n",
    "\n",
    "Normally distributed\n",
    "\n",
    "Skewed (shifted to left/right)\n",
    "\n",
    "Contain outliers (very high glucose values)"
   ]
  },
  {
   "cell_type": "markdown",
   "id": "4d753136",
   "metadata": {},
   "source": [
    "Selects the work_type column from the DataFrame.\n",
    "\n",
    "This column is categorical"
   ]
  },
  {
   "cell_type": "code",
   "execution_count": 47,
   "id": "a5d0abe6",
   "metadata": {},
   "outputs": [
    {
     "data": {
      "text/plain": [
       "<AxesSubplot:>"
      ]
     },
     "execution_count": 47,
     "metadata": {},
     "output_type": "execute_result"
    },
    {
     "data": {
      "image/png": "[encoded data removed]",
      "text/plain": [
       "<Figure size 432x288 with 1 Axes>"
      ]
     },
     "metadata": {
      "needs_background": "light"
     },
     "output_type": "display_data"
    }
   ],
   "source": [
    "df['work_type'].hist(bins=30, edgecolor='black')"
   ]
  },
  {
   "cell_type": "markdown",
   "id": "c2e90240",
   "metadata": {},
   "source": [
    "Selects the column avg_glucose_level from your DataFrame.\n",
    "\n",
    "This column represents each person’s average glucose level in blood.\n",
    "\n",
    "It’s numerical (continuous variable)."
   ]
  },
  {
   "cell_type": "code",
   "execution_count": 49,
   "id": "83c589ae",
   "metadata": {},
   "outputs": [
    {
     "data": {
      "text/plain": [
       "<AxesSubplot:>"
      ]
     },
     "execution_count": 49,
     "metadata": {},
     "output_type": "execute_result"
    },
    {
     "data": {
      "image/png": "[encoded data removed]",
      "text/plain": [
       "<Figure size 432x288 with 1 Axes>"
      ]
     },
     "metadata": {
      "needs_background": "light"
     },
     "output_type": "display_data"
    }
   ],
   "source": [
    "df['avg_glucose_level'].hist(bins=30, edgecolor='black')"
   ]
  },
  {
   "cell_type": "markdown",
   "id": "eb701896",
   "metadata": {},
   "source": [
    "A Seaborn function for bar charts of categorical variables.\n",
    "\n",
    "It counts how many times each category appears.\n",
    "\n",
    "X-axis → Smoking categories.\n",
    "\n",
    "Y-axis → Number of people in each category.\n",
    "\n",
    "Each bar’s height = frequency of that group."
   ]
  },
  {
   "cell_type": "code",
   "execution_count": 50,
   "id": "07856804",
   "metadata": {},
   "outputs": [
    {
     "data": {
      "text/plain": [
       "<AxesSubplot:xlabel='smoking_status', ylabel='count'>"
      ]
     },
     "execution_count": 50,
     "metadata": {},
     "output_type": "execute_result"
    },
    {
     "data": {
      "image/png": "[encoded data removed]",
      "text/plain": [
       "<Figure size 432x288 with 1 Axes>"
      ]
     },
     "metadata": {
      "needs_background": "light"
     },
     "output_type": "display_data"
    }
   ],
   "source": [
    "sns.countplot(x='smoking_status', data=df)"
   ]
  },
  {
   "cell_type": "markdown",
   "id": "80247114",
   "metadata": {},
   "source": [
    "Distribution of work type in % across your dataset.\n",
    "\n",
    "Helps identify which category dominates"
   ]
  },
  {
   "cell_type": "code",
   "execution_count": 51,
   "id": "2f5e4bed",
   "metadata": {},
   "outputs": [
    {
     "name": "stdout",
     "output_type": "stream",
     "text": [
      "4    62.503055\n",
      "3    22.576387\n",
      "2    13.659252\n",
      "1     1.053532\n",
      "0     0.207773\n",
      "Name: work_type, dtype: float64\n"
     ]
    }
   ],
   "source": [
    "print(df['work_type'].value_counts(normalize=True) * 100)"
   ]
  },
  {
   "cell_type": "markdown",
   "id": "0b6a9eca",
   "metadata": {},
   "source": [
    "The heatmap will show whether avg_glucose_level is related to work type.\n",
    "\n",
    "High correlation (closer to ±1) → Certain work types may be linked with higher or lower glucose levels.\n",
    "\n",
    "Near zero correlation → Work type doesn’t have a meaningful linear relationship with glucose levels."
   ]
  },
  {
   "cell_type": "code",
   "execution_count": 52,
   "id": "ab961682",
   "metadata": {},
   "outputs": [
    {
     "name": "stdout",
     "output_type": "stream",
     "text": [
      "                   work_type  avg_glucose_level\n",
      "work_type           1.000000           0.018167\n",
      "avg_glucose_level   0.018167           1.000000\n"
     ]
    },
    {
     "data": {
      "image/png": "[encoded data removed]",
      "text/plain": [
       "<Figure size 432x288 with 2 Axes>"
      ]
     },
     "metadata": {
      "needs_background": "light"
     },
     "output_type": "display_data"
    }
   ],
   "source": [
    "print(df[['work_type','avg_glucose_level']].corr())\n",
    "sns.heatmap(df[['work_type','avg_glucose_level']].corr(), annot=True, cmap='coolwarm')\n",
    "plt.show()"
   ]
  },
  {
   "cell_type": "markdown",
   "id": "edc83964",
   "metadata": {},
   "source": [
    "Creates a cross-tabulation (contingency table) between smoking_status and stroke.\n",
    "\n",
    "The crosstab gives exact percentages.\n",
    "\n",
    "The countplot gives a quick visual:\n",
    "\n",
    "If the stroke proportion is higher among \"smokes\" or \"formerly smoked\" we can see taller stroke-colored segments there."
   ]
  },
  {
   "cell_type": "code",
   "execution_count": 53,
   "id": "ac1174fc",
   "metadata": {},
   "outputs": [
    {
     "data": {
      "image/png": "[encoded data removed]",
      "text/plain": [
       "<Figure size 432x288 with 1 Axes>"
      ]
     },
     "metadata": {
      "needs_background": "light"
     },
     "output_type": "display_data"
    }
   ],
   "source": [
    "pd.crosstab(df['smoking_status'], df['stroke'], normalize='index') * 100\n",
    "sns.countplot(x='smoking_status',hue='stroke', data=df)\n",
    "plt.show()"
   ]
  },
  {
   "cell_type": "code",
   "execution_count": null,
   "id": "608474f6",
   "metadata": {},
   "outputs": [],
   "source": []
  }
 ],
 "metadata": {
  "kernelspec": {
   "display_name": "Python 3 (ipykernel)",
   "language": "python",
   "name": "python3"
  },
  "language_info": {
   "codemirror_mode": {
    "name": "ipython",
    "version": 3
   },
   "file_extension": ".py",
   "mimetype": "text/x-python",
   "name": "python",
   "nbconvert_exporter": "python",
   "pygments_lexer": "ipython3",
   "version": "3.9.7"
  }
 },
 "nbformat": 4,
 "nbformat_minor": 5
}
